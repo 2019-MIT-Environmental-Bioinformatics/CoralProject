{
 "cells": [
  {
   "cell_type": "markdown",
   "metadata": {},
   "source": [
    "## Script to turn the count files into one file\n",
    "\n",
    "The goal here is to order the columns with the contig names so that they are all the same. Then I need to turn the files into one file with just the counts.\n",
    "\n",
    "The \"eff_counts\" column is the one that I will use and combine into one file. According to the eXpress manual online, this is the column that is recommended for using in count-based differential expression analyses. Since that is what we are interested in, we will go ahead and use this column.\n",
    "\n",
    "I wrote a for loop, but this could likely easily be turned into a python script for use with future eXpress output."
   ]
  },
  {
   "cell_type": "code",
   "execution_count": 3,
   "metadata": {},
   "outputs": [],
   "source": [
    "import pandas as pd\n",
    "import glob"
   ]
  },
  {
   "cell_type": "code",
   "execution_count": 4,
   "metadata": {},
   "outputs": [
    {
     "name": "stdout",
     "output_type": "stream",
     "text": [
      "Mfav_DD_euk_1_counts.xprs\n",
      "Mfav_HH_euk_33_counts.xprs\n",
      "Mfav_DD_euk_31_counts.xprs\n",
      "Mfav_HH_euk_3_counts.xprs\n"
     ]
    }
   ],
   "source": [
    "allfiles = glob.glob('Mfav*') #note the different files\n",
    "\n",
    "first=1 #initialize a 1 so that you can merge the files at the end\n",
    "for x in allfiles:\n",
    "    print(x)\n",
    "    if (first == 1):  \n",
    "        data = pd.read_csv(x,sep=\"\\t\") #read in the first file\n",
    "        datasort = data.sort_values('target_id') #sort the file by the target id (contig) \n",
    "        cols = datasort[['target_id','eff_counts']] #select the only files representative of the count data used for the future differential expression analysis\n",
    "        colsrename = cols.rename(columns={'eff_counts':x}) #rename the count column by the file name so you know which file is which\n",
    "        first = 0 #change first to 0 so you go through the else section for all the other files\n",
    "    else:\n",
    "        df = pd.read_csv(x,sep=\"\\t\")\n",
    "        dfsort = df.sort_values('target_id')\n",
    "        cols2 = dfsort[['target_id','eff_counts']]\n",
    "        colsrename2 = cols2.rename(columns={'eff_counts':x})\n",
    "        colsrename = pd.merge(colsrename, colsrename2, how=\"outer\", on=\"target_id\") #merge the data frame to the initial colsrename. this will be the output."
   ]
  },
  {
   "cell_type": "code",
   "execution_count": 5,
   "metadata": {},
   "outputs": [],
   "source": [
    "# write the output colsrename from the for loop to a csv file.\n",
    "colsrename.to_csv('Mfav_counts_all_filttxm.tab', sep = \"\\t\", float_format='%.f') # write the table as a tab-delimited file and make the counts integers because edgeR cannot use counts.\n",
    "colsrename.to_csv('Mfav_counts_all_filttxm_decimals.tab', sep = \"\\t\") # write the table as a tab-delimited file, and keep the decimal-based counts"
   ]
  }
 ],
 "metadata": {
  "kernelspec": {
   "display_name": "Python 3",
   "language": "python",
   "name": "python3"
  },
  "language_info": {
   "codemirror_mode": {
    "name": "ipython",
    "version": 3
   },
   "file_extension": ".py",
   "mimetype": "text/x-python",
   "name": "python",
   "nbconvert_exporter": "python",
   "pygments_lexer": "ipython3",
   "version": "3.6.7"
  }
 },
 "nbformat": 4,
 "nbformat_minor": 2
}
